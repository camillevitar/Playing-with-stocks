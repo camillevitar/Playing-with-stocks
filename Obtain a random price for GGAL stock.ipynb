{
 "cells": [
  {
   "cell_type": "raw",
   "id": "a97868f2",
   "metadata": {},
   "source": [
    "#Obtain a random price for GGAL stock between 100 and 110 with precision of 0,01 and assign the value to variable GGAL"
   ]
  },
  {
   "cell_type": "code",
   "execution_count": null,
   "id": "71469ae3",
   "metadata": {},
   "outputs": [],
   "source": [
    "#1 "
   ]
  },
  {
   "cell_type": "code",
   "execution_count": 5,
   "id": "51ea9c02",
   "metadata": {},
   "outputs": [],
   "source": [
    "import random"
   ]
  },
  {
   "cell_type": "code",
   "execution_count": 6,
   "id": "1f43f8d5",
   "metadata": {},
   "outputs": [],
   "source": [
    "min = 10000\n",
    "max = 11000\n",
    "step = 1 "
   ]
  },
  {
   "cell_type": "code",
   "execution_count": 19,
   "id": "a12409eb",
   "metadata": {},
   "outputs": [],
   "source": [
    "ggal = random.randrange(min, max, step)/100"
   ]
  },
  {
   "cell_type": "code",
   "execution_count": 20,
   "id": "1399d3ba",
   "metadata": {},
   "outputs": [
    {
     "data": {
      "text/plain": [
       "103.24"
      ]
     },
     "execution_count": 20,
     "metadata": {},
     "output_type": "execute_result"
    }
   ],
   "source": [
    "ggal"
   ]
  },
  {
   "cell_type": "code",
   "execution_count": 10,
   "id": "e515ee0b",
   "metadata": {},
   "outputs": [],
   "source": [
    "#2 "
   ]
  },
  {
   "cell_type": "code",
   "execution_count": 21,
   "id": "2dabfe88",
   "metadata": {},
   "outputs": [
    {
     "data": {
      "text/plain": [
       "103.98"
      ]
     },
     "execution_count": 21,
     "metadata": {},
     "output_type": "execute_result"
    }
   ],
   "source": [
    "min = 100\n",
    "max = 109\n",
    "step = 1\n",
    "entero = random.randrange(min, max, 1)\n",
    "decimales = random.uniform(0, 1)\n",
    "ggal = round(entero + decimales, 2)\n",
    "ggal"
   ]
  },
  {
   "cell_type": "code",
   "execution_count": null,
   "id": "84b732df",
   "metadata": {},
   "outputs": [],
   "source": []
  }
 ],
 "metadata": {
  "kernelspec": {
   "display_name": "Python 3 (ipykernel)",
   "language": "python",
   "name": "python3"
  },
  "language_info": {
   "codemirror_mode": {
    "name": "ipython",
    "version": 3
   },
   "file_extension": ".py",
   "mimetype": "text/x-python",
   "name": "python",
   "nbconvert_exporter": "python",
   "pygments_lexer": "ipython3",
   "version": "3.9.7"
  }
 },
 "nbformat": 4,
 "nbformat_minor": 5
}
